{
 "cells": [
  {
   "cell_type": "code",
   "execution_count": 32,
   "id": "4a5c3d1d-8691-409b-9331-831e12250b68",
   "metadata": {},
   "outputs": [
    {
     "data": {
      "text/html": [
       "<div>\n",
       "<style scoped>\n",
       "    .dataframe tbody tr th:only-of-type {\n",
       "        vertical-align: middle;\n",
       "    }\n",
       "\n",
       "    .dataframe tbody tr th {\n",
       "        vertical-align: top;\n",
       "    }\n",
       "\n",
       "    .dataframe thead th {\n",
       "        text-align: right;\n",
       "    }\n",
       "</style>\n",
       "<table border=\"1\" class=\"dataframe\">\n",
       "  <thead>\n",
       "    <tr style=\"text-align: right;\">\n",
       "      <th></th>\n",
       "      <th>age</th>\n",
       "      <th>job</th>\n",
       "      <th>marital</th>\n",
       "      <th>education</th>\n",
       "      <th>default</th>\n",
       "      <th>housing</th>\n",
       "      <th>loan</th>\n",
       "      <th>contact</th>\n",
       "      <th>month</th>\n",
       "      <th>day_of_week</th>\n",
       "      <th>...</th>\n",
       "      <th>campaign</th>\n",
       "      <th>pdays</th>\n",
       "      <th>previous</th>\n",
       "      <th>poutcome</th>\n",
       "      <th>emp.var.rate</th>\n",
       "      <th>cons.price.idx</th>\n",
       "      <th>cons.conf.idx</th>\n",
       "      <th>euribor3m</th>\n",
       "      <th>nr.employed</th>\n",
       "      <th>y</th>\n",
       "    </tr>\n",
       "  </thead>\n",
       "  <tbody>\n",
       "    <tr>\n",
       "      <th>0</th>\n",
       "      <td>56</td>\n",
       "      <td>housemaid</td>\n",
       "      <td>married</td>\n",
       "      <td>basic.4y</td>\n",
       "      <td>no</td>\n",
       "      <td>no</td>\n",
       "      <td>no</td>\n",
       "      <td>telephone</td>\n",
       "      <td>may</td>\n",
       "      <td>mon</td>\n",
       "      <td>...</td>\n",
       "      <td>1</td>\n",
       "      <td>999</td>\n",
       "      <td>0</td>\n",
       "      <td>nonexistent</td>\n",
       "      <td>1.1</td>\n",
       "      <td>93.994</td>\n",
       "      <td>-36.4</td>\n",
       "      <td>4.857</td>\n",
       "      <td>5191.0</td>\n",
       "      <td>no</td>\n",
       "    </tr>\n",
       "    <tr>\n",
       "      <th>1</th>\n",
       "      <td>57</td>\n",
       "      <td>services</td>\n",
       "      <td>married</td>\n",
       "      <td>high.school</td>\n",
       "      <td>unknown</td>\n",
       "      <td>no</td>\n",
       "      <td>no</td>\n",
       "      <td>telephone</td>\n",
       "      <td>may</td>\n",
       "      <td>mon</td>\n",
       "      <td>...</td>\n",
       "      <td>1</td>\n",
       "      <td>999</td>\n",
       "      <td>0</td>\n",
       "      <td>nonexistent</td>\n",
       "      <td>1.1</td>\n",
       "      <td>93.994</td>\n",
       "      <td>-36.4</td>\n",
       "      <td>4.857</td>\n",
       "      <td>5191.0</td>\n",
       "      <td>no</td>\n",
       "    </tr>\n",
       "    <tr>\n",
       "      <th>2</th>\n",
       "      <td>37</td>\n",
       "      <td>services</td>\n",
       "      <td>married</td>\n",
       "      <td>high.school</td>\n",
       "      <td>no</td>\n",
       "      <td>yes</td>\n",
       "      <td>no</td>\n",
       "      <td>telephone</td>\n",
       "      <td>may</td>\n",
       "      <td>mon</td>\n",
       "      <td>...</td>\n",
       "      <td>1</td>\n",
       "      <td>999</td>\n",
       "      <td>0</td>\n",
       "      <td>nonexistent</td>\n",
       "      <td>1.1</td>\n",
       "      <td>93.994</td>\n",
       "      <td>-36.4</td>\n",
       "      <td>4.857</td>\n",
       "      <td>5191.0</td>\n",
       "      <td>no</td>\n",
       "    </tr>\n",
       "    <tr>\n",
       "      <th>3</th>\n",
       "      <td>40</td>\n",
       "      <td>admin.</td>\n",
       "      <td>married</td>\n",
       "      <td>basic.6y</td>\n",
       "      <td>no</td>\n",
       "      <td>no</td>\n",
       "      <td>no</td>\n",
       "      <td>telephone</td>\n",
       "      <td>may</td>\n",
       "      <td>mon</td>\n",
       "      <td>...</td>\n",
       "      <td>1</td>\n",
       "      <td>999</td>\n",
       "      <td>0</td>\n",
       "      <td>nonexistent</td>\n",
       "      <td>1.1</td>\n",
       "      <td>93.994</td>\n",
       "      <td>-36.4</td>\n",
       "      <td>4.857</td>\n",
       "      <td>5191.0</td>\n",
       "      <td>no</td>\n",
       "    </tr>\n",
       "    <tr>\n",
       "      <th>4</th>\n",
       "      <td>56</td>\n",
       "      <td>services</td>\n",
       "      <td>married</td>\n",
       "      <td>high.school</td>\n",
       "      <td>no</td>\n",
       "      <td>no</td>\n",
       "      <td>yes</td>\n",
       "      <td>telephone</td>\n",
       "      <td>may</td>\n",
       "      <td>mon</td>\n",
       "      <td>...</td>\n",
       "      <td>1</td>\n",
       "      <td>999</td>\n",
       "      <td>0</td>\n",
       "      <td>nonexistent</td>\n",
       "      <td>1.1</td>\n",
       "      <td>93.994</td>\n",
       "      <td>-36.4</td>\n",
       "      <td>4.857</td>\n",
       "      <td>5191.0</td>\n",
       "      <td>no</td>\n",
       "    </tr>\n",
       "  </tbody>\n",
       "</table>\n",
       "<p>5 rows × 21 columns</p>\n",
       "</div>"
      ],
      "text/plain": [
       "   age        job  marital    education  default housing loan    contact  \\\n",
       "0   56  housemaid  married     basic.4y       no      no   no  telephone   \n",
       "1   57   services  married  high.school  unknown      no   no  telephone   \n",
       "2   37   services  married  high.school       no     yes   no  telephone   \n",
       "3   40     admin.  married     basic.6y       no      no   no  telephone   \n",
       "4   56   services  married  high.school       no      no  yes  telephone   \n",
       "\n",
       "  month day_of_week  ...  campaign  pdays  previous     poutcome emp.var.rate  \\\n",
       "0   may         mon  ...         1    999         0  nonexistent          1.1   \n",
       "1   may         mon  ...         1    999         0  nonexistent          1.1   \n",
       "2   may         mon  ...         1    999         0  nonexistent          1.1   \n",
       "3   may         mon  ...         1    999         0  nonexistent          1.1   \n",
       "4   may         mon  ...         1    999         0  nonexistent          1.1   \n",
       "\n",
       "   cons.price.idx  cons.conf.idx  euribor3m  nr.employed   y  \n",
       "0          93.994          -36.4      4.857       5191.0  no  \n",
       "1          93.994          -36.4      4.857       5191.0  no  \n",
       "2          93.994          -36.4      4.857       5191.0  no  \n",
       "3          93.994          -36.4      4.857       5191.0  no  \n",
       "4          93.994          -36.4      4.857       5191.0  no  \n",
       "\n",
       "[5 rows x 21 columns]"
      ]
     },
     "execution_count": 32,
     "metadata": {},
     "output_type": "execute_result"
    }
   ],
   "source": [
    "import pandas as pd\n",
    "#Complete dataSet\n",
    "dataSet = pd.read_csv('bank-additional-full.csv', delimiter=\";\")\n",
    "df = pd.DataFrame(dataSet)\n",
    "df.head(n=5)"
   ]
  },
  {
   "cell_type": "code",
   "execution_count": 33,
   "id": "9aaf9c14-47f8-42e0-b3d2-bc515884089f",
   "metadata": {},
   "outputs": [],
   "source": [
    "import numpy as np\n",
    "import sklearn\n",
    "from sklearn.model_selection import train_test_split\n",
    "X_train, X_test, y_train, y_test= sklearn.model_selection.train_test_split(dataSet, df.loc[:,\"y\"],test_size=.1,train_size=.9, random_state=(2021-10-25))"
   ]
  },
  {
   "cell_type": "code",
   "execution_count": 34,
   "id": "b315c9ee-b1a7-4001-b5ae-02ff08917cc2",
   "metadata": {},
   "outputs": [],
   "source": [
    "y = pd.DataFrame(dataSet, columns=[\"y\"])\n",
    "features = df.drop(columns=[\"duration\", \"y\"])\n",
    "X_train, X_test, y_train, y_test= sklearn.model_selection.train_test_split(features, y,test_size=.1,train_size=.9, random_state=(2021-10-25))"
   ]
  },
  {
   "cell_type": "code",
   "execution_count": 35,
   "id": "bbbdaf15-b40b-4b53-b956-1818153fb120",
   "metadata": {},
   "outputs": [],
   "source": [
    "bank_client_data_train = pd.DataFrame(X_train, columns=[\"age\",\"job\",\"marital\",\"education\",\"default\",\"housing\",\"loan\"])\n",
    "bank_client_data_test = pd.DataFrame(X_test, columns=[\"age\",\"job\",\"marital\",\"education\",\"default\",\"housing\",\"loan\"])\n",
    "dummy_bcd_train = pd.get_dummies(bank_client_data_train,drop_first=True)\n",
    "dummy_bcd_test = pd.get_dummies(bank_client_data_test,drop_first=True)"
   ]
  },
  {
   "cell_type": "code",
   "execution_count": 36,
   "id": "a8f21246-b283-4493-802f-de03a3fe073a",
   "metadata": {},
   "outputs": [
    {
     "name": "stdout",
     "output_type": "stream",
     "text": [
      "0.8788540907987376\n",
      "0.8818689470986538\n"
     ]
    },
    {
     "name": "stderr",
     "output_type": "stream",
     "text": [
      "C:\\Users\\nikki\\anaconda3\\lib\\site-packages\\sklearn\\utils\\validation.py:63: DataConversionWarning: A column-vector y was passed when a 1d array was expected. Please change the shape of y to (n_samples, ), for example using ravel().\n",
      "  return f(*args, **kwargs)\n"
     ]
    }
   ],
   "source": [
    "from sklearn.naive_bayes import CategoricalNB\n",
    "cnb = CategoricalNB()\n",
    "cnb.fit(dummy_bcd_train,y_train)\n",
    "print(cnb.score(dummy_bcd_test,y_test))\n",
    "print(cnb.score(dummy_bcd_train,y_train))"
   ]
  },
  {
   "cell_type": "code",
   "execution_count": 37,
   "id": "7b068d22-bf9c-4e7e-8b41-049abd2a3b52",
   "metadata": {},
   "outputs": [
    {
     "name": "stdout",
     "output_type": "stream",
     "text": [
      "       age  job_blue-collar  job_entrepreneur  job_housemaid  job_management  \\\n",
      "22975   56                0                 0              0               0   \n",
      "14746   26                0                 0              0               0   \n",
      "12505   38                0                 0              0               0   \n",
      "6801    33                0                 0              0               0   \n",
      "18389   29                0                 0              0               0   \n",
      "...    ...              ...               ...            ...             ...   \n",
      "17987   31                1                 0              0               0   \n",
      "20299   29                0                 0              0               0   \n",
      "14556   49                1                 0              0               0   \n",
      "28981   47                0                 0              0               0   \n",
      "32764   35                0                 0              0               0   \n",
      "\n",
      "       job_retired  job_self-employed  job_services  job_student  \\\n",
      "22975            1                  0             0            0   \n",
      "14746            0                  0             0            0   \n",
      "12505            0                  0             0            0   \n",
      "6801             0                  0             0            0   \n",
      "18389            0                  0             0            0   \n",
      "...            ...                ...           ...          ...   \n",
      "17987            0                  0             0            0   \n",
      "20299            0                  0             0            0   \n",
      "14556            0                  0             0            0   \n",
      "28981            0                  0             0            0   \n",
      "32764            0                  0             0            0   \n",
      "\n",
      "       job_technician  ...  education_illiterate  \\\n",
      "22975               0  ...                     0   \n",
      "14746               1  ...                     0   \n",
      "12505               0  ...                     0   \n",
      "6801                0  ...                     0   \n",
      "18389               0  ...                     0   \n",
      "...               ...  ...                   ...   \n",
      "17987               0  ...                     0   \n",
      "20299               1  ...                     0   \n",
      "14556               0  ...                     0   \n",
      "28981               0  ...                     0   \n",
      "32764               0  ...                     0   \n",
      "\n",
      "       education_professional.course  education_university.degree  \\\n",
      "22975                              1                            0   \n",
      "14746                              1                            0   \n",
      "12505                              0                            0   \n",
      "6801                               0                            1   \n",
      "18389                              0                            0   \n",
      "...                              ...                          ...   \n",
      "17987                              1                            0   \n",
      "20299                              0                            0   \n",
      "14556                              0                            0   \n",
      "28981                              0                            0   \n",
      "32764                              0                            1   \n",
      "\n",
      "       education_unknown  default_unknown  default_yes  housing_unknown  \\\n",
      "22975                  0                0            0                0   \n",
      "14746                  0                0            0                1   \n",
      "12505                  0                0            0                0   \n",
      "6801                   0                0            0                0   \n",
      "18389                  0                0            0                0   \n",
      "...                  ...              ...          ...              ...   \n",
      "17987                  0                0            0                0   \n",
      "20299                  0                0            0                0   \n",
      "14556                  0                1            0                0   \n",
      "28981                  0                0            0                0   \n",
      "32764                  0                0            0                0   \n",
      "\n",
      "       housing_yes  loan_unknown  loan_yes  \n",
      "22975            1             0         0  \n",
      "14746            0             1         0  \n",
      "12505            1             0         0  \n",
      "6801             0             0         0  \n",
      "18389            0             0         0  \n",
      "...            ...           ...       ...  \n",
      "17987            1             0         0  \n",
      "20299            0             0         0  \n",
      "14556            1             0         0  \n",
      "28981            1             0         0  \n",
      "32764            1             0         0  \n",
      "\n",
      "[37069 rows x 28 columns]\n"
     ]
    }
   ],
   "source": [
    "#Taking a look at the data used in the previous experiment (expirement 5)\n",
    "print(dummy_bcd_train)"
   ]
  },
  {
   "cell_type": "markdown",
   "id": "4a62b0c1-2fdb-4f6d-b9f1-749860031613",
   "metadata": {},
   "source": [
    "Experiment Number 6:\n",
    "Even though Categorical Naive Bayes assumes that each value of the age variable is a separate category, in our data used in the previous expeirment, there is only one category for the age variable. This is not reasonable when using the Categorical Naive Bayes classifier, since it is assuming that each age is a serparete column."
   ]
  },
  {
   "cell_type": "code",
   "execution_count": 38,
   "id": "df109051-6890-478f-a987-1f8b795849a4",
   "metadata": {},
   "outputs": [
    {
     "name": "stdout",
     "output_type": "stream",
     "text": [
      "0.8788540907987376\n",
      "0.881437319593191\n"
     ]
    },
    {
     "name": "stderr",
     "output_type": "stream",
     "text": [
      "C:\\Users\\nikki\\anaconda3\\lib\\site-packages\\sklearn\\utils\\validation.py:63: DataConversionWarning: A column-vector y was passed when a 1d array was expected. Please change the shape of y to (n_samples, ), for example using ravel().\n",
      "  return f(*args, **kwargs)\n"
     ]
    }
   ],
   "source": [
    "bins = [0,10,20,30,40,50,60,70,80,90,100]\n",
    "labels = ['0-10','11-20','21-30','31-40','41-50','51-60','61-70','71-80','81-90','91-100']\n",
    "bcd_train_ageSplit = bank_client_data_train\n",
    "bcd_train_ageSplit['Age_Category'] = pd.cut(bank_client_data_train['age'], bins= bins, labels= labels)\n",
    "bcd_train_ageSplit = bcd_train_ageSplit.drop(columns=['age'])\n",
    "dummy_bcd_train_ageSplit = pd.get_dummies(bcd_train_ageSplit,drop_first=True)\n",
    "\n",
    "bcd_test_ageSplit = bank_client_data_test\n",
    "bcd_test_ageSplit['Age_Category'] = pd.cut(bank_client_data_test['age'], bins= bins, labels= labels)\n",
    "bcd_test_ageSplit = bcd_test_ageSplit.drop(columns=['age'])\n",
    "dummy_bcd_test_ageSplit = pd.get_dummies(bcd_test_ageSplit,drop_first=True)\n",
    "\n",
    "cnb.fit(dummy_bcd_train_ageSplit,y_train)\n",
    "print(cnb.score(dummy_bcd_test_ageSplit,y_test))\n",
    "print(cnb.score(dummy_bcd_train_ageSplit,y_train))"
   ]
  },
  {
   "cell_type": "code",
   "execution_count": 39,
   "id": "ffbe1c34-35b6-40c8-a568-142c382485e9",
   "metadata": {},
   "outputs": [
    {
     "name": "stderr",
     "output_type": "stream",
     "text": [
      "C:\\Users\\nikki\\anaconda3\\lib\\site-packages\\sklearn\\neighbors\\_classification.py:179: DataConversionWarning: A column-vector y was passed when a 1d array was expected. Please change the shape of y to (n_samples,), for example using ravel().\n",
      "  return self._fit(X, y)\n"
     ]
    },
    {
     "data": {
      "text/plain": [
       "KNeighborsClassifier()"
      ]
     },
     "execution_count": 39,
     "metadata": {},
     "output_type": "execute_result"
    }
   ],
   "source": [
    "from sklearn import neighbors\n",
    "knn = neighbors.KNeighborsClassifier(n_neighbors=5)\n",
    "knn.fit(dummy_bcd_train,y_train)\n",
    "##print(knn.score(dummy_bcd_test,y_test))\n",
    "##print(knn.score(dummy_bcd_train,y_train))"
   ]
  },
  {
   "cell_type": "code",
   "execution_count": 40,
   "id": "07db0615-673c-4e34-9177-33e1afcd3b1e",
   "metadata": {},
   "outputs": [
    {
     "data": {
      "text/plain": [
       "no     3646\n",
       "yes     473\n",
       "Name: y, dtype: int64"
      ]
     },
     "execution_count": 40,
     "metadata": {},
     "output_type": "execute_result"
    }
   ],
   "source": [
    "y_test['y'].value_counts()"
   ]
  },
  {
   "cell_type": "code",
   "execution_count": 41,
   "id": "a957b2b9-8680-4ca2-8a79-f998eabd88d2",
   "metadata": {},
   "outputs": [
    {
     "name": "stdout",
     "output_type": "stream",
     "text": [
      "Confusion Matrix:\n",
      " [[3646    0]\n",
      " [ 473    0]]\n",
      "AUC Score:\n",
      " 0.5\n"
     ]
    }
   ],
   "source": [
    "from sklearn.metrics import confusion_matrix\n",
    "from sklearn.metrics import roc_auc_score\n",
    "from sklearn.metrics import roc_curve\n",
    "from sklearn.linear_model import LogisticRegression\n",
    "dumb_class = np.zeros_like(y_test, dtype='uint')\n",
    "y_test_dummy = pd.get_dummies(y_test, drop_first =True)\n",
    "conf_matrix = confusion_matrix(y_test_dummy.values,dumb_class)\n",
    "print(\"Confusion Matrix:\\n\", conf_matrix)\n",
    "\n",
    "score_auc = roc_auc_score(y_test_dummy.values,dumb_class)\n",
    "print(\"AUC Score:\\n\", score_auc )"
   ]
  },
  {
   "cell_type": "code",
   "execution_count": 52,
   "id": "ee7f7a39-b8af-4929-9b54-238ee6714aa3",
   "metadata": {},
   "outputs": [
    {
     "name": "stdout",
     "output_type": "stream",
     "text": [
      "Score: 0.8788540907987376\n",
      "Confusion Matrix:\n",
      " [[3554  407]\n",
      " [  92   66]]\n",
      "CategoricalNB - ROC AUC score 0.6389724207594062\n"
     ]
    },
    {
     "name": "stderr",
     "output_type": "stream",
     "text": [
      "C:\\Users\\nikki\\anaconda3\\lib\\site-packages\\sklearn\\metrics\\_ranking.py:949: UndefinedMetricWarning: No positive samples in y_true, true positive value should be meaningless\n",
      "  warnings.warn(\"No positive samples in y_true, \"\n"
     ]
    }
   ],
   "source": [
    "pred_bins = cnb.predict(dummy_bcd_test_ageSplit)\n",
    "score_bins = cnb.score(dummy_bcd_test_ageSplit,y_test)\n",
    "print(\"Score:\", score_bins)\n",
    "conf_matrix_bins = confusion_matrix(pred_bins, y_test)\n",
    "print(\"Confusion Matrix:\\n\", conf_matrix_bins)\n",
    "\n",
    "predictProb_y = cnb.predict_proba(dummy_bcd_test_ageSplit)[:,1]\n",
    "fps, tps, thresholds = roc_curve(y_test, predictProb_y,pos_label=1)\n",
    "roc_score = roc_auc_score(y_test, predictProb_y)\n",
    "print(\"CategoricalNB - ROC AUC score\", roc_score)\n",
    "\n",
    "pred_KNN = knn.predict(dummy_bcd_test)\n",
    "score_KNN = knn.score(dummy_bcd_test)\n",
    "conf_matrix_KNN = "
   ]
  },
  {
   "cell_type": "code",
   "execution_count": null,
   "id": "14e71210-4e2e-4da8-8bea-555f93c03136",
   "metadata": {},
   "outputs": [],
   "source": []
  }
 ],
 "metadata": {
  "kernelspec": {
   "display_name": "Python 3",
   "language": "python",
   "name": "python3"
  },
  "language_info": {
   "codemirror_mode": {
    "name": "ipython",
    "version": 3
   },
   "file_extension": ".py",
   "mimetype": "text/x-python",
   "name": "python",
   "nbconvert_exporter": "python",
   "pygments_lexer": "ipython3",
   "version": "3.8.8"
  }
 },
 "nbformat": 4,
 "nbformat_minor": 5
}
